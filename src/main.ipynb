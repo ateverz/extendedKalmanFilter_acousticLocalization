{
 "cells": [
  {
   "metadata": {
    "ExecuteTime": {
     "end_time": "2024-10-21T11:34:30.169288Z",
     "start_time": "2024-10-21T11:34:30.166615Z"
    }
   },
   "cell_type": "code",
   "source": [
    "# Packages\n",
    "import matplotlib.pyplot as plt\n",
    "import numpy as np\n",
    "from numpy.random import randn\n",
    "import math\n",
    "from filterpy.kalman import ExtendedKalmanFilter"
   ],
   "id": "380949edd726fcce",
   "outputs": [],
   "execution_count": 98
  },
  {
   "metadata": {
    "ExecuteTime": {
     "end_time": "2024-10-21T09:25:35.977413Z",
     "start_time": "2024-10-21T09:25:35.966874Z"
    }
   },
   "cell_type": "code",
   "source": "",
   "id": "fc4dc34d932cf5da",
   "outputs": [],
   "execution_count": 93
  },
  {
   "metadata": {},
   "cell_type": "code",
   "outputs": [],
   "execution_count": null,
   "source": [
    "kf = ExtendedKalmanFilter(dim_x=2, dim_z=2)\n",
    "speaker = speakerSim(pos = (1,2), theta = 10, d=0.05, noise_std=1)\n",
    "\n"
   ],
   "id": "78e692e2a852782b"
  },
  {
   "metadata": {
    "ExecuteTime": {
     "end_time": "2024-10-21T09:25:36.108135Z",
     "start_time": "2024-10-21T09:25:36.026650Z"
    }
   },
   "cell_type": "code",
   "source": [
    "x,y, th = speaker.get_batch(10)\n",
    "\n",
    "plt.plot(x, y, 'o')\n",
    "plt.xlim(-5, 5)\n",
    "plt.ylim(-5, 5)"
   ],
   "id": "f1aa8ffa4dc1cdc4",
   "outputs": [
    {
     "data": {
      "text/plain": [
       "(-5.0, 5.0)"
      ]
     },
     "execution_count": 94,
     "metadata": {},
     "output_type": "execute_result"
    },
    {
     "data": {
      "text/plain": [
       "<Figure size 432x288 with 1 Axes>"
      ],
      "image/png": "[encoded data removed]"
     },
     "metadata": {
      "needs_background": "light"
     },
     "output_type": "display_data"
    }
   ],
   "execution_count": 94
  }
 ],
 "metadata": {
  "kernelspec": {
   "display_name": "Python 3",
   "language": "python",
   "name": "python3"
  },
  "language_info": {
   "codemirror_mode": {
    "name": "ipython",
    "version": 2
   },
   "file_extension": ".py",
   "mimetype": "text/x-python",
   "name": "python",
   "nbconvert_exporter": "python",
   "pygments_lexer": "ipython2",
   "version": "2.7.6"
  }
 },
 "nbformat": 4,
 "nbformat_minor": 5
}
