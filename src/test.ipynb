{
 "cells": [
  {
   "cell_type": "code",
   "id": "initial_id",
   "metadata": {
    "collapsed": true,
    "ExecuteTime": {
     "end_time": "2024-10-21T11:48:59.434517Z",
     "start_time": "2024-10-21T11:48:59.090675Z"
    }
   },
   "source": [
    "import sympy\n",
    "from sympy import Matrix\n",
    "\n",
    "sympy.init_printing(use_latex='mathjax')\n",
    "\n",
    "x, y, x_r, y_r = sympy.symbols('x, y, x_r, y_r')\n",
    "\n",
    "z = Matrix([[sympy.sqrt((x-x_r)**2 + (y-y_r)**2)],\n",
    "            [sympy.atan2(y-y_r, x-x_r)]])\n",
    "\n",
    "z.jacobian(Matrix([x, y]))"
   ],
   "outputs": [
    {
     "data": {
      "text/plain": [
       "⎡          x - xᵣ                      y - yᵣ          ⎤\n",
       "⎢──────────────────────────  ──────────────────────────⎥\n",
       "⎢   _______________________     _______________________⎥\n",
       "⎢  ╱         2           2     ╱         2           2 ⎥\n",
       "⎢╲╱  (x - xᵣ)  + (y - yᵣ)    ╲╱  (x - xᵣ)  + (y - yᵣ)  ⎥\n",
       "⎢                                                      ⎥\n",
       "⎢         -y + yᵣ                      x - xᵣ          ⎥\n",
       "⎢  ─────────────────────       ─────────────────────   ⎥\n",
       "⎢          2           2               2           2   ⎥\n",
       "⎣  (x - xᵣ)  + (y - yᵣ)        (x - xᵣ)  + (y - yᵣ)    ⎦"
      ],
      "text/latex": "$\\displaystyle \\left[\\begin{matrix}\\frac{x - x_{r}}{\\sqrt{\\left(x - x_{r}\\right)^{2} + \\left(y - y_{r}\\right)^{2}}} & \\frac{y - y_{r}}{\\sqrt{\\left(x - x_{r}\\right)^{2} + \\left(y - y_{r}\\right)^{2}}}\\\\\\frac{- y + y_{r}}{\\left(x - x_{r}\\right)^{2} + \\left(y - y_{r}\\right)^{2}} & \\frac{x - x_{r}}{\\left(x - x_{r}\\right)^{2} + \\left(y - y_{r}\\right)^{2}}\\end{matrix}\\right]$"
     },
     "execution_count": 1,
     "metadata": {},
     "output_type": "execute_result"
    }
   ],
   "execution_count": 1
  },
  {
   "metadata": {},
   "cell_type": "code",
   "outputs": [],
   "execution_count": null,
   "source": [
    "\n",
    "state = sympy.Matrix([x, y])\n",
    "J = H.jacobian(state)\n",
    "\n",
    "display(state)\n",
    "display(J)"
   ],
   "id": "1de7c09487bc231f"
  },
  {
   "metadata": {
    "ExecuteTime": {
     "end_time": "2024-10-23T08:35:56.841947Z",
     "start_time": "2024-10-23T08:35:56.827147Z"
    }
   },
   "cell_type": "code",
   "source": [
    "\n",
    "from src import acousticLocalizationSim as ac\n",
    "import matplotlib.pyplot as plt\n",
    "\n",
    "speaker = ac.acousticLocalizationSim()\n",
    "\n",
    "angle = []\n",
    "\n",
    "robot_position = [-1, -1]\n",
    "\n",
    "for i in range(100):\n",
    "    angle.append(speaker.get_relativeAngle(robot_position, noise = True))\n",
    "    \n",
    "plt.plot(angle, 'ro')"
   ],
   "id": "bfc96238cebf40a6",
   "outputs": [
    {
     "ename": "AttributeError",
     "evalue": "'list' object has no attribute 'pos'",
     "output_type": "error",
     "traceback": [
      "\u001B[0;31m---------------------------------------------------------------------------\u001B[0m",
      "\u001B[0;31mAttributeError\u001B[0m                            Traceback (most recent call last)",
      "\u001B[0;32m<ipython-input-25-b34670cfec84>\u001B[0m in \u001B[0;36m<module>\u001B[0;34m\u001B[0m\n\u001B[1;32m      9\u001B[0m \u001B[0;34m\u001B[0m\u001B[0m\n\u001B[1;32m     10\u001B[0m \u001B[0;32mfor\u001B[0m \u001B[0mi\u001B[0m \u001B[0;32min\u001B[0m \u001B[0mrange\u001B[0m\u001B[0;34m(\u001B[0m\u001B[0;36m100\u001B[0m\u001B[0;34m)\u001B[0m\u001B[0;34m:\u001B[0m\u001B[0;34m\u001B[0m\u001B[0;34m\u001B[0m\u001B[0m\n\u001B[0;32m---> 11\u001B[0;31m     \u001B[0mangle\u001B[0m\u001B[0;34m.\u001B[0m\u001B[0mappend\u001B[0m\u001B[0;34m(\u001B[0m\u001B[0mspeaker\u001B[0m\u001B[0;34m.\u001B[0m\u001B[0mget_relativeAngle\u001B[0m\u001B[0;34m(\u001B[0m\u001B[0mrobot_position\u001B[0m\u001B[0;34m,\u001B[0m \u001B[0mnoise\u001B[0m \u001B[0;34m=\u001B[0m \u001B[0;32mTrue\u001B[0m\u001B[0;34m)\u001B[0m\u001B[0;34m)\u001B[0m\u001B[0;34m\u001B[0m\u001B[0;34m\u001B[0m\u001B[0m\n\u001B[0m\u001B[1;32m     12\u001B[0m \u001B[0;34m\u001B[0m\u001B[0m\n\u001B[1;32m     13\u001B[0m \u001B[0mplt\u001B[0m\u001B[0;34m.\u001B[0m\u001B[0mplot\u001B[0m\u001B[0;34m(\u001B[0m\u001B[0mangle\u001B[0m\u001B[0;34m,\u001B[0m \u001B[0;34m'ro'\u001B[0m\u001B[0;34m)\u001B[0m\u001B[0;34m\u001B[0m\u001B[0;34m\u001B[0m\u001B[0m\n",
      "\u001B[0;32m~/Documents/phd/projects/extendedKalmanFilter_acousticLocalization/acousticLocalizationSim.py\u001B[0m in \u001B[0;36mget_relativeAngle\u001B[0;34m(self, robot, noise)\u001B[0m\n\u001B[1;32m     19\u001B[0m         \"\"\"\n\u001B[1;32m     20\u001B[0m         \u001B[0;32mif\u001B[0m \u001B[0mnoise\u001B[0m\u001B[0;34m:\u001B[0m\u001B[0;34m\u001B[0m\u001B[0;34m\u001B[0m\u001B[0m\n\u001B[0;32m---> 21\u001B[0;31m             \u001B[0;32mreturn\u001B[0m \u001B[0mmath\u001B[0m\u001B[0;34m.\u001B[0m\u001B[0matan2\u001B[0m\u001B[0;34m(\u001B[0m\u001B[0mself\u001B[0m\u001B[0;34m.\u001B[0m\u001B[0mpos\u001B[0m\u001B[0;34m[\u001B[0m\u001B[0;36m1\u001B[0m\u001B[0;34m]\u001B[0m \u001B[0;34m-\u001B[0m \u001B[0mrobot\u001B[0m\u001B[0;34m[\u001B[0m\u001B[0;36m1\u001B[0m\u001B[0;34m]\u001B[0m\u001B[0;34m,\u001B[0m \u001B[0mself\u001B[0m\u001B[0;34m.\u001B[0m\u001B[0mpos\u001B[0m\u001B[0;34m[\u001B[0m\u001B[0;36m0\u001B[0m\u001B[0;34m]\u001B[0m \u001B[0;34m-\u001B[0m \u001B[0mrobot\u001B[0m\u001B[0;34m[\u001B[0m\u001B[0;36m0\u001B[0m\u001B[0;34m]\u001B[0m\u001B[0;34m)\u001B[0m \u001B[0;34m+\u001B[0m \u001B[0mrandn\u001B[0m\u001B[0;34m(\u001B[0m\u001B[0;34m)\u001B[0m \u001B[0;34m*\u001B[0m \u001B[0mself\u001B[0m\u001B[0;34m.\u001B[0m\u001B[0mnoise_std\u001B[0m\u001B[0;34m\u001B[0m\u001B[0;34m\u001B[0m\u001B[0m\n\u001B[0m\u001B[1;32m     22\u001B[0m         \u001B[0;32mreturn\u001B[0m \u001B[0mmath\u001B[0m\u001B[0;34m.\u001B[0m\u001B[0matan2\u001B[0m\u001B[0;34m(\u001B[0m\u001B[0mself\u001B[0m\u001B[0;34m.\u001B[0m\u001B[0mpos\u001B[0m\u001B[0;34m[\u001B[0m\u001B[0;36m1\u001B[0m\u001B[0;34m]\u001B[0m \u001B[0;34m-\u001B[0m \u001B[0mrobot\u001B[0m\u001B[0;34m[\u001B[0m\u001B[0;36m1\u001B[0m\u001B[0;34m]\u001B[0m\u001B[0;34m,\u001B[0m \u001B[0mself\u001B[0m\u001B[0;34m.\u001B[0m\u001B[0mpos\u001B[0m\u001B[0;34m[\u001B[0m\u001B[0;36m0\u001B[0m\u001B[0;34m]\u001B[0m \u001B[0;34m-\u001B[0m \u001B[0mrobot\u001B[0m\u001B[0;34m[\u001B[0m\u001B[0;36m0\u001B[0m\u001B[0;34m]\u001B[0m\u001B[0;34m)\u001B[0m\u001B[0;34m\u001B[0m\u001B[0;34m\u001B[0m\u001B[0m\n\u001B[1;32m     23\u001B[0m \u001B[0;34m\u001B[0m\u001B[0m\n",
      "\u001B[0;31mAttributeError\u001B[0m: 'list' object has no attribute 'pos'"
     ]
    }
   ],
   "execution_count": 25
  },
  {
   "metadata": {
    "ExecuteTime": {
     "end_time": "2024-10-23T08:03:18.864720Z",
     "start_time": "2024-10-23T08:03:18.860772Z"
    }
   },
   "cell_type": "code",
   "source": "robot_position[0]\n",
   "id": "6c7f09fad18944bc",
   "outputs": [
    {
     "data": {
      "text/plain": [
       "-1"
      ]
     },
     "execution_count": 22,
     "metadata": {},
     "output_type": "execute_result"
    }
   ],
   "execution_count": 22
  },
  {
   "metadata": {
    "ExecuteTime": {
     "end_time": "2024-10-28T10:41:20.571059Z",
     "start_time": "2024-10-28T10:41:20.565779Z"
    }
   },
   "cell_type": "code",
   "source": [
    "import numpy as np\n",
    "import math\n",
    "\n",
    "\"\"\" Código para validar que np.atan2 es correcto para los cuatro cuadrantes \"\"\"\n",
    "X_ = np.array([1, 1])\n",
    "Y_ = np.array([1, -1])\n",
    "Z_ = np.array([-1, -1])\n",
    "W_ = np.array([-1, 1])\n",
    "\n",
    "print(math.atan2(X_[1], X_[0]))\n",
    "print(math.atan2(Y_[1], Y_[0]))\n",
    "print(math.atan2(Z_[1], Z_[0]))\n",
    "print(math.atan2(W_[1], W_[0]))\n",
    "\n"
   ],
   "id": "f27952440cad715d",
   "outputs": [
    {
     "name": "stdout",
     "output_type": "stream",
     "text": [
      "0.7853981633974483\n",
      "-0.7853981633974483\n",
      "-2.356194490192345\n",
      "2.356194490192345\n"
     ]
    }
   ],
   "execution_count": 3
  },
  {
   "metadata": {
    "ExecuteTime": {
     "end_time": "2024-10-28T10:41:36.121764Z",
     "start_time": "2024-10-28T10:41:36.117893Z"
    }
   },
   "cell_type": "code",
   "source": "print(3.1416/4)",
   "id": "b7bd9ab76b39dcec",
   "outputs": [
    {
     "name": "stdout",
     "output_type": "stream",
     "text": [
      "0.7854\n"
     ]
    }
   ],
   "execution_count": 4
  },
  {
   "metadata": {
    "ExecuteTime": {
     "end_time": "2024-10-29T10:18:08.295776Z",
     "start_time": "2024-10-29T10:18:08.292299Z"
    }
   },
   "cell_type": "code",
   "source": [
    "import math\n",
    "\n",
    "math.atan2(-0.1, 0.1)*()"
   ],
   "id": "553463e25b607e14",
   "outputs": [
    {
     "data": {
      "text/plain": [
       "-0.7853981633974483"
      ]
     },
     "execution_count": 2,
     "metadata": {},
     "output_type": "execute_result"
    }
   ],
   "execution_count": 2
  }
 ],
 "metadata": {
  "kernelspec": {
   "display_name": "Python 3",
   "language": "python",
   "name": "python3"
  },
  "language_info": {
   "codemirror_mode": {
    "name": "ipython",
    "version": 2
   },
   "file_extension": ".py",
   "mimetype": "text/x-python",
   "name": "python",
   "nbconvert_exporter": "python",
   "pygments_lexer": "ipython2",
   "version": "2.7.6"
  }
 },
 "nbformat": 4,
 "nbformat_minor": 5
}
